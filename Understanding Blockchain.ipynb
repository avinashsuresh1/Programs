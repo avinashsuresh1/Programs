{
 "cells": [
  {
   "cell_type": "code",
   "execution_count": 1,
   "id": "07ee82c1",
   "metadata": {},
   "outputs": [],
   "source": [
    "import random\n",
    "def generateHash():  #returns 128-bit hash (32 hexits * 4 bits per hexit)\n",
    "    possibilities = ('a','b','c','d','e','f','0','1','2','3','4','5','6','7','8','9')\n",
    "    hashKey = ''\n",
    "    for i in range(32):\n",
    "        hashKey+=random.choice(possibilities)\n",
    "    return hashKey"
   ]
  },
  {
   "cell_type": "code",
   "execution_count": 2,
   "id": "7bfeb2ad",
   "metadata": {},
   "outputs": [
    {
     "data": {
      "text/plain": [
       "'228b7209e895183f355b4386a13591aa'"
      ]
     },
     "execution_count": 2,
     "metadata": {},
     "output_type": "execute_result"
    }
   ],
   "source": [
    "generateHash()"
   ]
  },
  {
   "cell_type": "code",
   "execution_count": 3,
   "id": "03d71dff",
   "metadata": {},
   "outputs": [],
   "source": [
    "class Node:\n",
    "    def __init__(self, data, chain):\n",
    "        self.data = data\n",
    "        self.head = chain.tail\n",
    "        chain.tail = generateHash()\n",
    "        self.tail = chain.tail"
   ]
  },
  {
   "cell_type": "code",
   "execution_count": 4,
   "id": "735db94e",
   "metadata": {},
   "outputs": [],
   "source": [
    "from datetime import datetime\n",
    "class Chain:\n",
    "    def __init__(self):\n",
    "        self.head = generateHash()\n",
    "        self.tail = generateHash()\n",
    "        self.nodes = []\n",
    "    def addNode(self, n):\n",
    "        self.nodes.append((n, datetime.now()))\n",
    "    def showLedger(self):\n",
    "        print('\\tTimestamp\\t\\t\\t\\t\\t\\tTransaction')\n",
    "        for n in self.nodes:\n",
    "            print(f'{n[1]}\\t{n[0].data}')"
   ]
  },
  {
   "cell_type": "code",
   "execution_count": 5,
   "id": "3aab372b",
   "metadata": {},
   "outputs": [
    {
     "name": "stdout",
     "output_type": "stream",
     "text": [
      "d0abbe86736d4e488171e5b5741ec88e de6d7e3d338f70a134d96865a5412ac0\n"
     ]
    }
   ],
   "source": [
    "c = Chain()\n",
    "print(c.head, c.tail)"
   ]
  },
  {
   "cell_type": "code",
   "execution_count": 6,
   "id": "5080b168",
   "metadata": {},
   "outputs": [],
   "source": [
    "class Transaction:\n",
    "    def __init__(self, sender, receiver, amount):\n",
    "        self.sender = sender\n",
    "        self.receiver = receiver\n",
    "        self.amount = amount\n",
    "    def commit(self, chain):\n",
    "        chain.addNode(Node(f'{self.sender.id} -> {self.receiver.id} | ${self.amount}',chain))\n",
    "        self.sender.balance-=self.amount\n",
    "        self.receiver.balance+=self.amount"
   ]
  },
  {
   "cell_type": "code",
   "execution_count": 7,
   "id": "9b1bb5d1",
   "metadata": {},
   "outputs": [],
   "source": [
    "class User:\n",
    "    def __init__(self):\n",
    "        self.id = generateHash()\n",
    "        self.balance = 0\n",
    "    def addBalance(self, bal):\n",
    "        self.balance+=bal"
   ]
  },
  {
   "cell_type": "code",
   "execution_count": 8,
   "id": "2bea9d59",
   "metadata": {},
   "outputs": [],
   "source": [
    "u1 = User()\n",
    "u1.addBalance(100)\n",
    "u2 = User()\n",
    "u2.addBalance(50)"
   ]
  },
  {
   "cell_type": "code",
   "execution_count": 9,
   "id": "29413620",
   "metadata": {},
   "outputs": [
    {
     "name": "stdout",
     "output_type": "stream",
     "text": [
      "50 100\n"
     ]
    }
   ],
   "source": [
    "t1 = Transaction(u1,u2,50)\n",
    "t1.commit(c)\n",
    "print(u1.balance, u2.balance)"
   ]
  },
  {
   "cell_type": "code",
   "execution_count": 10,
   "id": "0a27e8c8",
   "metadata": {},
   "outputs": [
    {
     "name": "stdout",
     "output_type": "stream",
     "text": [
      "\tTimestamp\t\t\t\t\t\tTransaction\n",
      "2022-11-20 14:27:38.330177\t218d43636037cc18ff94c2d6638b98f6 -> e496a834bd53cb43ecdcca9052eee4e7 | $50\n"
     ]
    }
   ],
   "source": [
    "c.showLedger()"
   ]
  },
  {
   "cell_type": "code",
   "execution_count": 11,
   "id": "4356116f",
   "metadata": {},
   "outputs": [],
   "source": [
    "Transaction(u2,u1,20).commit(c)"
   ]
  },
  {
   "cell_type": "code",
   "execution_count": 12,
   "id": "235f3b96",
   "metadata": {},
   "outputs": [
    {
     "name": "stdout",
     "output_type": "stream",
     "text": [
      "\tTimestamp\t\t\t\t\t\tTransaction\n",
      "2022-11-20 14:27:38.330177\t218d43636037cc18ff94c2d6638b98f6 -> e496a834bd53cb43ecdcca9052eee4e7 | $50\n",
      "2022-11-20 14:28:34.096553\te496a834bd53cb43ecdcca9052eee4e7 -> 218d43636037cc18ff94c2d6638b98f6 | $20\n"
     ]
    }
   ],
   "source": [
    "c.showLedger()"
   ]
  },
  {
   "cell_type": "code",
   "execution_count": 13,
   "id": "804f1029",
   "metadata": {},
   "outputs": [
    {
     "name": "stdout",
     "output_type": "stream",
     "text": [
      "70 80\n"
     ]
    }
   ],
   "source": [
    "print(u1.balance, u2.balance)"
   ]
  }
 ],
 "metadata": {
  "kernelspec": {
   "display_name": "Python 3 (ipykernel)",
   "language": "python",
   "name": "python3"
  },
  "language_info": {
   "codemirror_mode": {
    "name": "ipython",
    "version": 3
   },
   "file_extension": ".py",
   "mimetype": "text/x-python",
   "name": "python",
   "nbconvert_exporter": "python",
   "pygments_lexer": "ipython3",
   "version": "3.10.8"
  }
 },
 "nbformat": 4,
 "nbformat_minor": 5
}
